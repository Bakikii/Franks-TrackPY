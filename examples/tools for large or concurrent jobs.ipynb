{
 "metadata": {
  "name": "tools for large or concurrent jobs"
 },
 "nbformat": 3,
 "nbformat_minor": 0,
 "worksheets": [
  {
   "cells": [
    {
     "cell_type": "markdown",
     "metadata": {},
     "source": [
      "Saving Data, and Tools for Large or Concurrent Jobs\n",
      "===================================================\n",
      "\n",
      "Five use cases are considered:\n",
      "\n",
      "* saving output in common formats for sharing (CSV, Excel)\n",
      "* saving output in binary formats for further analysis (pickle, HDF5, SQL)\n",
      "* processing a large video, saving results one frame at a time\n",
      "* processing many videos in parallel\n",
      "* accessing partially complete results during analysis\n",
      "\n",
      "## Saving data\n",
      "\n",
      "In the simplest case, you can locate the features in every frame of a movie, and output them to a variable."
     ]
    },
    {
     "cell_type": "code",
     "collapsed": false,
     "input": [
      "import mr"
     ],
     "language": "python",
     "metadata": {},
     "outputs": [],
     "prompt_number": 4
    },
    {
     "cell_type": "code",
     "collapsed": false,
     "input": [
      "v = mr.Video('/home/dallan/mr/mr/tests/water/bulk-water.mov')"
     ],
     "language": "python",
     "metadata": {},
     "outputs": [],
     "prompt_number": 10
    },
    {
     "cell_type": "code",
     "collapsed": false,
     "input": [
      "f = mr.batch(v[:3], 11, 3000)"
     ],
     "language": "python",
     "metadata": {},
     "outputs": [
      {
       "output_type": "stream",
       "stream": "stderr",
       "text": [
        "mr.core.feature.locate:  693 local maxima, 259 of qualifying mass\n"
       ]
      },
      {
       "output_type": "stream",
       "stream": "stderr",
       "text": [
        "mr.core.feature.batch:  Frame 0: 259 features\n"
       ]
      },
      {
       "output_type": "stream",
       "stream": "stderr",
       "text": [
        "mr.core.feature.locate:  695 local maxima, 203 of qualifying mass\n"
       ]
      },
      {
       "output_type": "stream",
       "stream": "stderr",
       "text": [
        "mr.core.feature.batch:  Frame 1: 203 features\n"
       ]
      },
      {
       "output_type": "stream",
       "stream": "stderr",
       "text": [
        "mr.core.feature.locate:  702 local maxima, 184 of qualifying mass\n"
       ]
      },
      {
       "output_type": "stream",
       "stream": "stderr",
       "text": [
        "mr.core.feature.batch:  Frame 2: 184 features\n"
       ]
      },
      {
       "output_type": "stream",
       "stream": "stderr",
       "text": [
        "mr.core.feature.locate:  706 local maxima, 220 of qualifying mass\n"
       ]
      },
      {
       "output_type": "stream",
       "stream": "stderr",
       "text": [
        "mr.core.feature.batch:  Frame 3: 220 features\n"
       ]
      }
     ],
     "prompt_number": 12
    },
    {
     "cell_type": "markdown",
     "metadata": {},
     "source": [
      "The result is a DataFrame, which can be saved in formats convenient for sharing, like Excel"
     ]
    },
    {
     "cell_type": "code",
     "collapsed": false,
     "input": [
      "f.to_excel('features.xlsx')"
     ],
     "language": "python",
     "metadata": {},
     "outputs": [],
     "prompt_number": 13
    },
    {
     "cell_type": "markdown",
     "metadata": {},
     "source": [
      "or comma-separated values"
     ]
    },
    {
     "cell_type": "code",
     "collapsed": false,
     "input": [
      "f.to_csv('features.csv')"
     ],
     "language": "python",
     "metadata": {},
     "outputs": [],
     "prompt_number": 14
    },
    {
     "cell_type": "markdown",
     "metadata": {},
     "source": [
      "These formats are slow to read and write. If you not are not sending the file to a non-programmer, it is better to save it as a binary file."
     ]
    },
    {
     "cell_type": "code",
     "collapsed": false,
     "input": [
      "f.save('features.df') # df for DataFrame -- could be any name you want"
     ],
     "language": "python",
     "metadata": {},
     "outputs": [],
     "prompt_number": 37
    },
    {
     "cell_type": "markdown",
     "metadata": {},
     "source": [
      "## Saving large jobs while they run\n",
      "\n",
      "For large jobs, it is better to save the features one frame at a time as the job proceeds. If the job is interrupted, partial progress will be saved. And the job requires only enough memory to process one frame at a time -- it need not hold all the frames' data.\n",
      "\n",
      "``batch`` can do this in two different ways: using an HDF5 file (a fast binary format) or a SQL database.\n",
      "\n",
      "### HDF5\n",
      "\n",
      "For HDF5, we open an HDF5 file using pandas, and pass it to batch."
     ]
    },
    {
     "cell_type": "code",
     "collapsed": false,
     "input": [
      "store = pd.HDFStore('data.h5')\n",
      "f = mr.batch(v[:3], 11, 3000, store=store, table='features')"
     ],
     "language": "python",
     "metadata": {},
     "outputs": [
      {
       "output_type": "stream",
       "stream": "stderr",
       "text": [
        "mr.core.feature.locate:  693 local maxima, 259 of qualifying mass\n"
       ]
      },
      {
       "output_type": "stream",
       "stream": "stderr",
       "text": [
        "mr.core.feature.batch:  Frame 0: 259 features\n"
       ]
      },
      {
       "output_type": "stream",
       "stream": "stderr",
       "text": [
        "mr.core.feature.locate:  695 local maxima, 203 of qualifying mass\n"
       ]
      },
      {
       "output_type": "stream",
       "stream": "stderr",
       "text": [
        "mr.core.feature.batch:  Frame 1: 203 features\n"
       ]
      },
      {
       "output_type": "stream",
       "stream": "stderr",
       "text": [
        "mr.core.feature.locate:  702 local maxima, 184 of qualifying mass\n"
       ]
      },
      {
       "output_type": "stream",
       "stream": "stderr",
       "text": [
        "mr.core.feature.batch:  Frame 2: 184 features\n"
       ]
      },
      {
       "output_type": "stream",
       "stream": "stderr",
       "text": [
        "mr.core.feature.locate:  706 local maxima, 220 of qualifying mass\n"
       ]
      },
      {
       "output_type": "stream",
       "stream": "stderr",
       "text": [
        "mr.core.feature.batch:  Frame 3: 220 features\n"
       ]
      }
     ],
     "prompt_number": 20
    },
    {
     "cell_type": "markdown",
     "metadata": {},
     "source": [
      "``batch`` saves the data one frame at a time, discarding each frame's data before it begins the next one. In this way, memory is conserved and long videos can be processed. At the end, ``batch`` loads the data out of the HDF5 file and returns it in the variable ``f``.\n",
      "\n",
      "In some cases, if you wish to run jobs simultaneous in several Python sessions, you might want to leave the data in ``store`` and retrieve it later, in part or in full. Use ``do_not_return=True``."
     ]
    },
    {
     "cell_type": "code",
     "collapsed": false,
     "input": [
      "mr.batch(v[:3], 11, 3000, store=store, table='bulk_water/features', do_not_return=True)\n",
      "# This returns nothing."
     ],
     "language": "python",
     "metadata": {},
     "outputs": [
      {
       "output_type": "stream",
       "stream": "stderr",
       "text": [
        "mr.core.feature.locate:  693 local maxima, 259 of qualifying mass\n"
       ]
      },
      {
       "output_type": "stream",
       "stream": "stderr",
       "text": [
        "mr.core.feature.batch:  Frame 0: 259 features\n"
       ]
      },
      {
       "output_type": "stream",
       "stream": "stderr",
       "text": [
        "mr.core.feature.locate:  695 local maxima, 203 of qualifying mass\n"
       ]
      },
      {
       "output_type": "stream",
       "stream": "stderr",
       "text": [
        "mr.core.feature.batch:  Frame 1: 203 features\n"
       ]
      },
      {
       "output_type": "stream",
       "stream": "stderr",
       "text": [
        "mr.core.feature.locate:  702 local maxima, 184 of qualifying mass\n"
       ]
      },
      {
       "output_type": "stream",
       "stream": "stderr",
       "text": [
        "mr.core.feature.batch:  Frame 2: 184 features\n"
       ]
      },
      {
       "output_type": "stream",
       "stream": "stderr",
       "text": [
        "mr.core.feature.locate:  706 local maxima, 220 of qualifying mass\n"
       ]
      },
      {
       "output_type": "stream",
       "stream": "stderr",
       "text": [
        "mr.core.feature.batch:  Frame 3: 220 features\n"
       ]
      }
     ],
     "prompt_number": 22
    },
    {
     "cell_type": "markdown",
     "metadata": {},
     "source": [
      "We can load it from the store later."
     ]
    },
    {
     "cell_type": "code",
     "collapsed": false,
     "input": [
      "f = store['bulk_water/features']\n",
      "f.head()"
     ],
     "language": "python",
     "metadata": {},
     "outputs": [
      {
       "html": [
        "<div style=\"max-height:1000px;max-width:1500px;overflow:auto;\">\n",
        "<table border=\"1\" class=\"dataframe\">\n",
        "  <thead>\n",
        "    <tr style=\"text-align: right;\">\n",
        "      <th></th>\n",
        "      <th>x</th>\n",
        "      <th>y</th>\n",
        "      <th>mass</th>\n",
        "      <th>size</th>\n",
        "      <th>ecc</th>\n",
        "      <th>signal</th>\n",
        "      <th>ep</th>\n",
        "      <th>frame</th>\n",
        "    </tr>\n",
        "  </thead>\n",
        "  <tbody>\n",
        "    <tr>\n",
        "      <th>2 </th>\n",
        "      <td>  36.048647</td>\n",
        "      <td>  8.120968</td>\n",
        "      <td> 3844</td>\n",
        "      <td> 2.771191</td>\n",
        "      <td> 0.146392</td>\n",
        "      <td> 22.279131</td>\n",
        "      <td> 0.370538</td>\n",
        "      <td> 0</td>\n",
        "    </tr>\n",
        "    <tr>\n",
        "      <th>3 </th>\n",
        "      <td>  67.232830</td>\n",
        "      <td>  7.869478</td>\n",
        "      <td> 3509</td>\n",
        "      <td> 2.570799</td>\n",
        "      <td> 0.053752</td>\n",
        "      <td> 23.279131</td>\n",
        "      <td> 0.412061</td>\n",
        "      <td> 0</td>\n",
        "    </tr>\n",
        "    <tr>\n",
        "      <th>5 </th>\n",
        "      <td> 430.957784</td>\n",
        "      <td>  7.319437</td>\n",
        "      <td> 5685</td>\n",
        "      <td> 2.763565</td>\n",
        "      <td> 0.288109</td>\n",
        "      <td> 26.279131</td>\n",
        "      <td> 0.315874</td>\n",
        "      <td> 0</td>\n",
        "    </tr>\n",
        "    <tr>\n",
        "      <th>6 </th>\n",
        "      <td> 629.180087</td>\n",
        "      <td>  8.195757</td>\n",
        "      <td> 4148</td>\n",
        "      <td> 3.248655</td>\n",
        "      <td> 0.216354</td>\n",
        "      <td> 14.279131</td>\n",
        "      <td> 0.420683</td>\n",
        "      <td> 0</td>\n",
        "    </tr>\n",
        "    <tr>\n",
        "      <th>12</th>\n",
        "      <td> 552.773313</td>\n",
        "      <td> 11.108589</td>\n",
        "      <td> 3260</td>\n",
        "      <td> 2.211168</td>\n",
        "      <td> 0.118502</td>\n",
        "      <td> 29.279131</td>\n",
        "      <td> 0.442856</td>\n",
        "      <td> 0</td>\n",
        "    </tr>\n",
        "  </tbody>\n",
        "</table>\n",
        "</div>"
       ],
       "output_type": "pyout",
       "prompt_number": 25,
       "text": [
        "             x          y  mass      size       ecc     signal        ep  frame\n",
        "2    36.048647   8.120968  3844  2.771191  0.146392  22.279131  0.370538      0\n",
        "3    67.232830   7.869478  3509  2.570799  0.053752  23.279131  0.412061      0\n",
        "5   430.957784   7.319437  5685  2.763565  0.288109  26.279131  0.315874      0\n",
        "6   629.180087   8.195757  4148  3.248655  0.216354  14.279131  0.420683      0\n",
        "12  552.773313  11.108589  3260  2.211168  0.118502  29.279131  0.442856      0"
       ]
      }
     ],
     "prompt_number": 25
    },
    {
     "cell_type": "markdown",
     "metadata": {},
     "source": [
      "If it is too large, we can fetch it in part:"
     ]
    },
    {
     "cell_type": "code",
     "collapsed": false,
     "input": [
      "f = store.select('features', pd.Term('frame < 3'))\n",
      "f.head()"
     ],
     "language": "python",
     "metadata": {},
     "outputs": [
      {
       "html": [
        "<div style=\"max-height:1000px;max-width:1500px;overflow:auto;\">\n",
        "<table border=\"1\" class=\"dataframe\">\n",
        "  <thead>\n",
        "    <tr style=\"text-align: right;\">\n",
        "      <th></th>\n",
        "      <th>x</th>\n",
        "      <th>y</th>\n",
        "      <th>mass</th>\n",
        "      <th>size</th>\n",
        "      <th>ecc</th>\n",
        "      <th>signal</th>\n",
        "      <th>ep</th>\n",
        "      <th>frame</th>\n",
        "    </tr>\n",
        "  </thead>\n",
        "  <tbody>\n",
        "    <tr>\n",
        "      <th>2 </th>\n",
        "      <td>  36.048647</td>\n",
        "      <td>  8.120968</td>\n",
        "      <td> 3844</td>\n",
        "      <td> 2.771191</td>\n",
        "      <td> 0.146392</td>\n",
        "      <td> 22.279131</td>\n",
        "      <td> 0.370538</td>\n",
        "      <td> 0</td>\n",
        "    </tr>\n",
        "    <tr>\n",
        "      <th>3 </th>\n",
        "      <td>  67.232830</td>\n",
        "      <td>  7.869478</td>\n",
        "      <td> 3509</td>\n",
        "      <td> 2.570799</td>\n",
        "      <td> 0.053752</td>\n",
        "      <td> 23.279131</td>\n",
        "      <td> 0.412061</td>\n",
        "      <td> 0</td>\n",
        "    </tr>\n",
        "    <tr>\n",
        "      <th>5 </th>\n",
        "      <td> 430.957784</td>\n",
        "      <td>  7.319437</td>\n",
        "      <td> 5685</td>\n",
        "      <td> 2.763565</td>\n",
        "      <td> 0.288109</td>\n",
        "      <td> 26.279131</td>\n",
        "      <td> 0.315874</td>\n",
        "      <td> 0</td>\n",
        "    </tr>\n",
        "    <tr>\n",
        "      <th>6 </th>\n",
        "      <td> 629.180087</td>\n",
        "      <td>  8.195757</td>\n",
        "      <td> 4148</td>\n",
        "      <td> 3.248655</td>\n",
        "      <td> 0.216354</td>\n",
        "      <td> 14.279131</td>\n",
        "      <td> 0.420683</td>\n",
        "      <td> 0</td>\n",
        "    </tr>\n",
        "    <tr>\n",
        "      <th>12</th>\n",
        "      <td> 552.773313</td>\n",
        "      <td> 11.108589</td>\n",
        "      <td> 3260</td>\n",
        "      <td> 2.211168</td>\n",
        "      <td> 0.118502</td>\n",
        "      <td> 29.279131</td>\n",
        "      <td> 0.442856</td>\n",
        "      <td> 0</td>\n",
        "    </tr>\n",
        "  </tbody>\n",
        "</table>\n",
        "</div>"
       ],
       "output_type": "pyout",
       "prompt_number": 43,
       "text": [
        "             x          y  mass      size       ecc     signal        ep  frame\n",
        "2    36.048647   8.120968  3844  2.771191  0.146392  22.279131  0.370538      0\n",
        "3    67.232830   7.869478  3509  2.570799  0.053752  23.279131  0.412061      0\n",
        "5   430.957784   7.319437  5685  2.763565  0.288109  26.279131  0.315874      0\n",
        "6   629.180087   8.195757  4148  3.248655  0.216354  14.279131  0.420683      0\n",
        "12  552.773313  11.108589  3260  2.211168  0.118502  29.279131  0.442856      0"
       ]
      }
     ],
     "prompt_number": 43
    },
    {
     "cell_type": "markdown",
     "metadata": {},
     "source": [
      "### SQL\n",
      "\n",
      "As an alternative to HDF5, we can use a SQL database. The simplest choice is sqlite, which uses a single file to store a database."
     ]
    },
    {
     "cell_type": "code",
     "collapsed": false,
     "input": [
      "import sqlite3\n",
      "conn = sqlite3.connect('data.sql')\n",
      "f = mr.batch(v[:3], 11, 3000, conn=conn, sql_flavor='sqlite', table='bulk_water/features')"
     ],
     "language": "python",
     "metadata": {},
     "outputs": [
      {
       "output_type": "stream",
       "stream": "stderr",
       "text": [
        "mr.core.feature.locate:  693 local maxima, 259 of qualifying mass\n"
       ]
      },
      {
       "output_type": "stream",
       "stream": "stderr",
       "text": [
        "mr.core.feature.batch:  Frame 0: 259 features\n"
       ]
      },
      {
       "output_type": "stream",
       "stream": "stderr",
       "text": [
        "mr.core.feature.locate:  695 local maxima, 203 of qualifying mass\n"
       ]
      },
      {
       "output_type": "stream",
       "stream": "stderr",
       "text": [
        "mr.core.feature.batch:  Frame 1: 203 features\n"
       ]
      },
      {
       "output_type": "stream",
       "stream": "stderr",
       "text": [
        "mr.core.feature.locate:  702 local maxima, 184 of qualifying mass\n"
       ]
      },
      {
       "output_type": "stream",
       "stream": "stderr",
       "text": [
        "mr.core.feature.batch:  Frame 2: 184 features\n"
       ]
      },
      {
       "output_type": "stream",
       "stream": "stderr",
       "text": [
        "mr.core.feature.locate:  706 local maxima, 220 of qualifying mass\n"
       ]
      },
      {
       "output_type": "stream",
       "stream": "stderr",
       "text": [
        "mr.core.feature.batch:  Frame 3: 220 features\n"
       ]
      }
     ],
     "prompt_number": 33
    },
    {
     "cell_type": "markdown",
     "metadata": {},
     "source": [
      "A MySQL database is also supported. The ``mr.sql`` module provides a convenience function for making a MySQL database connection."
     ]
    },
    {
     "cell_type": "code",
     "collapsed": false,
     "input": [
      "f = mr.batch(v[:3], 11, 3000, conn=mr.sql.connect(), sql_flavor='mysql', table='bulk_water/features')"
     ],
     "language": "python",
     "metadata": {},
     "outputs": [
      {
       "output_type": "stream",
       "stream": "stderr",
       "text": [
        "mr.core.feature.locate:  693 local maxima, 259 of qualifying mass\n"
       ]
      },
      {
       "output_type": "stream",
       "stream": "stderr",
       "text": [
        "mr.core.feature.batch:  Frame 0: 259 features\n"
       ]
      },
      {
       "output_type": "stream",
       "stream": "stderr",
       "text": [
        "mr.core.feature.locate:  695 local maxima, 203 of qualifying mass\n"
       ]
      },
      {
       "output_type": "stream",
       "stream": "stderr",
       "text": [
        "mr.core.feature.batch:  Frame 1: 203 features\n"
       ]
      },
      {
       "output_type": "stream",
       "stream": "stderr",
       "text": [
        "mr.core.feature.locate:  702 local maxima, 184 of qualifying mass\n"
       ]
      },
      {
       "output_type": "stream",
       "stream": "stderr",
       "text": [
        "mr.core.feature.batch:  Frame 2: 184 features\n"
       ]
      },
      {
       "output_type": "stream",
       "stream": "stderr",
       "text": [
        "mr.core.feature.locate:  706 local maxima, 220 of qualifying mass\n"
       ]
      },
      {
       "output_type": "stream",
       "stream": "stderr",
       "text": [
        "mr.core.feature.batch:  Frame 3: 220 features\n"
       ]
      }
     ],
     "prompt_number": 32
    },
    {
     "cell_type": "markdown",
     "metadata": {},
     "source": [
      "As with HDF5, you can conserve memory using ``do_not_return=True``.\n",
      "\n",
      "### Accesssing partial data sets without interrupting analysis\n",
      "\n",
      "Finally, sometimes it is convenient examine the early results while the full video is still being processed. This is not possible with an HDF5 file, which does not support concurrent reading and writing. But SQL makes it possible."
     ]
    },
    {
     "cell_type": "code",
     "collapsed": false,
     "input": [
      "partial = pd.io.sql.read_frame('select * from bulk_water_features', conn)\n",
      "partial.head()"
     ],
     "language": "python",
     "metadata": {},
     "outputs": [
      {
       "html": [
        "<div style=\"max-height:1000px;max-width:1500px;overflow:auto;\">\n",
        "<table border=\"1\" class=\"dataframe\">\n",
        "  <thead>\n",
        "    <tr style=\"text-align: right;\">\n",
        "      <th></th>\n",
        "      <th>x</th>\n",
        "      <th>y</th>\n",
        "      <th>mass</th>\n",
        "      <th>size</th>\n",
        "      <th>ecc</th>\n",
        "      <th>signal</th>\n",
        "      <th>ep</th>\n",
        "      <th>frame</th>\n",
        "    </tr>\n",
        "  </thead>\n",
        "  <tbody>\n",
        "    <tr>\n",
        "      <th>0</th>\n",
        "      <td>  36.048647</td>\n",
        "      <td>  8.120968</td>\n",
        "      <td> 3844</td>\n",
        "      <td> 2.771191</td>\n",
        "      <td> 0.146392</td>\n",
        "      <td> 22.279131</td>\n",
        "      <td> 0.370538</td>\n",
        "      <td> 0</td>\n",
        "    </tr>\n",
        "    <tr>\n",
        "      <th>1</th>\n",
        "      <td>  67.232830</td>\n",
        "      <td>  7.869478</td>\n",
        "      <td> 3509</td>\n",
        "      <td> 2.570799</td>\n",
        "      <td> 0.053752</td>\n",
        "      <td> 23.279131</td>\n",
        "      <td> 0.412061</td>\n",
        "      <td> 0</td>\n",
        "    </tr>\n",
        "    <tr>\n",
        "      <th>2</th>\n",
        "      <td> 430.957784</td>\n",
        "      <td>  7.319437</td>\n",
        "      <td> 5685</td>\n",
        "      <td> 2.763565</td>\n",
        "      <td> 0.288109</td>\n",
        "      <td> 26.279131</td>\n",
        "      <td> 0.315874</td>\n",
        "      <td> 0</td>\n",
        "    </tr>\n",
        "    <tr>\n",
        "      <th>3</th>\n",
        "      <td> 629.180087</td>\n",
        "      <td>  8.195757</td>\n",
        "      <td> 4148</td>\n",
        "      <td> 3.248655</td>\n",
        "      <td> 0.216354</td>\n",
        "      <td> 14.279131</td>\n",
        "      <td> 0.420683</td>\n",
        "      <td> 0</td>\n",
        "    </tr>\n",
        "    <tr>\n",
        "      <th>4</th>\n",
        "      <td> 552.773313</td>\n",
        "      <td> 11.108589</td>\n",
        "      <td> 3260</td>\n",
        "      <td> 2.211168</td>\n",
        "      <td> 0.118502</td>\n",
        "      <td> 29.279131</td>\n",
        "      <td> 0.442856</td>\n",
        "      <td> 0</td>\n",
        "    </tr>\n",
        "  </tbody>\n",
        "</table>\n",
        "</div>"
       ],
       "output_type": "pyout",
       "prompt_number": 36,
       "text": [
        "            x          y  mass      size       ecc     signal        ep  frame\n",
        "0   36.048647   8.120968  3844  2.771191  0.146392  22.279131  0.370538      0\n",
        "1   67.232830   7.869478  3509  2.570799  0.053752  23.279131  0.412061      0\n",
        "2  430.957784   7.319437  5685  2.763565  0.288109  26.279131  0.315874      0\n",
        "3  629.180087   8.195757  4148  3.248655  0.216354  14.279131  0.420683      0\n",
        "4  552.773313  11.108589  3260  2.211168  0.118502  29.279131  0.442856      0"
       ]
      }
     ],
     "prompt_number": 36
    },
    {
     "cell_type": "markdown",
     "metadata": {},
     "source": [
      "Here we have the full result because my short example job is done and already finished."
     ]
    }
   ],
   "metadata": {}
  }
 ]
}