{
 "metadata": {
  "name": ""
 },
 "nbformat": 3,
 "nbformat_minor": 0,
 "worksheets": [
  {
   "cells": [
    {
     "cell_type": "markdown",
     "metadata": {},
     "source": [
      "Saving Data, and Tools for Large or Concurrent Jobs\n",
      "===================================================\n",
      "\n",
      "Five use cases are considered:\n",
      "\n",
      "* saving output in common formats for sharing (CSV, Excel)\n",
      "* saving output in binary formats for further analysis (pickle, HDF5, SQL)\n",
      "* processing a large video, saving results one frame at a time\n",
      "* processing many videos in parallel\n",
      "* accessing partially complete results during analysis\n",
      "\n",
      "## Saving data\n",
      "\n",
      "In the simplest case, you can locate the features in every frame of a movie, and output them to a variable."
     ]
    },
    {
     "cell_type": "code",
     "collapsed": false,
     "input": [
      "import trackpy as tp"
     ],
     "language": "python",
     "metadata": {},
     "outputs": [],
     "prompt_number": 2
    },
    {
     "cell_type": "code",
     "collapsed": false,
     "input": [
      "v = tp.Video('../trackpy/tests/water/bulk-water.mov')"
     ],
     "language": "python",
     "metadata": {},
     "outputs": [],
     "prompt_number": 8
    },
    {
     "cell_type": "code",
     "collapsed": false,
     "input": [
      "v"
     ],
     "language": "python",
     "metadata": {},
     "outputs": [
      {
       "metadata": {},
       "output_type": "pyout",
       "prompt_number": 9,
       "text": [
        "<Frames>\n",
        "Source File: ../trackpy/tests/water/bulk-water.mov\n",
        "Frame Dimensions: 0 x 0\n",
        "Cursor at Frame 0 of 0"
       ]
      }
     ],
     "prompt_number": 9
    },
    {
     "cell_type": "code",
     "collapsed": false,
     "input": [
      "f = tp.batch(v[:3], 11, 3000)"
     ],
     "language": "python",
     "metadata": {},
     "outputs": [
      {
       "ename": "Exception",
       "evalue": "All objects passed were None",
       "output_type": "pyerr",
       "traceback": [
        "\u001b[1;31m---------------------------------------------------------------------------\u001b[0m\n\u001b[1;31mException\u001b[0m                                 Traceback (most recent call last)",
        "\u001b[1;32m<ipython-input-4-75f6cc59af37>\u001b[0m in \u001b[0;36m<module>\u001b[1;34m()\u001b[0m\n\u001b[1;32m----> 1\u001b[1;33m \u001b[0mf\u001b[0m \u001b[1;33m=\u001b[0m \u001b[0mtp\u001b[0m\u001b[1;33m.\u001b[0m\u001b[0mbatch\u001b[0m\u001b[1;33m(\u001b[0m\u001b[0mv\u001b[0m\u001b[1;33m[\u001b[0m\u001b[1;33m:\u001b[0m\u001b[1;36m3\u001b[0m\u001b[1;33m]\u001b[0m\u001b[1;33m,\u001b[0m \u001b[1;36m11\u001b[0m\u001b[1;33m,\u001b[0m \u001b[1;36m3000\u001b[0m\u001b[1;33m)\u001b[0m\u001b[1;33m\u001b[0m\u001b[0m\n\u001b[0m",
        "\u001b[1;32m/home/dallan/trackpy/trackpy/feature.pyc\u001b[0m in \u001b[0;36mbatch\u001b[1;34m(frames, diameter, minmass, maxsize, separation, noise_size, smoothing_size, threshold, invert, percentile, topn, preprocess, store, conn, sql_flavor, table, do_not_return, meta)\u001b[0m\n\u001b[0;32m    474\u001b[0m                               \"en masse at this time.\") \n\u001b[0;32m    475\u001b[0m     \u001b[1;32melse\u001b[0m\u001b[1;33m:\u001b[0m\u001b[1;33m\u001b[0m\u001b[0m\n\u001b[1;32m--> 476\u001b[1;33m         \u001b[1;32mreturn\u001b[0m \u001b[0mpd\u001b[0m\u001b[1;33m.\u001b[0m\u001b[0mconcat\u001b[0m\u001b[1;33m(\u001b[0m\u001b[0mall_centroids\u001b[0m\u001b[1;33m)\u001b[0m\u001b[1;33m.\u001b[0m\u001b[0mreset_index\u001b[0m\u001b[1;33m(\u001b[0m\u001b[0mdrop\u001b[0m\u001b[1;33m=\u001b[0m\u001b[0mTrue\u001b[0m\u001b[1;33m)\u001b[0m\u001b[1;33m\u001b[0m\u001b[0m\n\u001b[0m\u001b[0;32m    477\u001b[0m \u001b[1;33m\u001b[0m\u001b[0m\n\u001b[0;32m    478\u001b[0m \u001b[1;33m\u001b[0m\u001b[0m\n",
        "\u001b[1;32m/home/dallan/anaconda/lib/python2.7/site-packages/pandas/tools/merge.pyc\u001b[0m in \u001b[0;36mconcat\u001b[1;34m(objs, axis, join, join_axes, ignore_index, keys, levels, names, verify_integrity)\u001b[0m\n\u001b[0;32m    924\u001b[0m                        \u001b[0mignore_index\u001b[0m\u001b[1;33m=\u001b[0m\u001b[0mignore_index\u001b[0m\u001b[1;33m,\u001b[0m \u001b[0mjoin\u001b[0m\u001b[1;33m=\u001b[0m\u001b[0mjoin\u001b[0m\u001b[1;33m,\u001b[0m\u001b[1;33m\u001b[0m\u001b[0m\n\u001b[0;32m    925\u001b[0m                        \u001b[0mkeys\u001b[0m\u001b[1;33m=\u001b[0m\u001b[0mkeys\u001b[0m\u001b[1;33m,\u001b[0m \u001b[0mlevels\u001b[0m\u001b[1;33m=\u001b[0m\u001b[0mlevels\u001b[0m\u001b[1;33m,\u001b[0m \u001b[0mnames\u001b[0m\u001b[1;33m=\u001b[0m\u001b[0mnames\u001b[0m\u001b[1;33m,\u001b[0m\u001b[1;33m\u001b[0m\u001b[0m\n\u001b[1;32m--> 926\u001b[1;33m                        verify_integrity=verify_integrity)\n\u001b[0m\u001b[0;32m    927\u001b[0m     \u001b[1;32mreturn\u001b[0m \u001b[0mop\u001b[0m\u001b[1;33m.\u001b[0m\u001b[0mget_result\u001b[0m\u001b[1;33m(\u001b[0m\u001b[1;33m)\u001b[0m\u001b[1;33m\u001b[0m\u001b[0m\n\u001b[0;32m    928\u001b[0m \u001b[1;33m\u001b[0m\u001b[0m\n",
        "\u001b[1;32m/home/dallan/anaconda/lib/python2.7/site-packages/pandas/tools/merge.pyc\u001b[0m in \u001b[0;36m__init__\u001b[1;34m(self, objs, axis, join, join_axes, keys, levels, names, ignore_index, verify_integrity)\u001b[0m\n\u001b[0;32m    969\u001b[0m \u001b[1;33m\u001b[0m\u001b[0m\n\u001b[0;32m    970\u001b[0m         \u001b[1;32mif\u001b[0m \u001b[0mlen\u001b[0m\u001b[1;33m(\u001b[0m\u001b[0mobjs\u001b[0m\u001b[1;33m)\u001b[0m \u001b[1;33m==\u001b[0m \u001b[1;36m0\u001b[0m\u001b[1;33m:\u001b[0m\u001b[1;33m\u001b[0m\u001b[0m\n\u001b[1;32m--> 971\u001b[1;33m             \u001b[1;32mraise\u001b[0m \u001b[0mException\u001b[0m\u001b[1;33m(\u001b[0m\u001b[1;34m'All objects passed were None'\u001b[0m\u001b[1;33m)\u001b[0m\u001b[1;33m\u001b[0m\u001b[0m\n\u001b[0m\u001b[0;32m    972\u001b[0m \u001b[1;33m\u001b[0m\u001b[0m\n\u001b[0;32m    973\u001b[0m         \u001b[1;31m# consolidate data\u001b[0m\u001b[1;33m\u001b[0m\u001b[1;33m\u001b[0m\u001b[0m\n",
        "\u001b[1;31mException\u001b[0m: All objects passed were None"
       ]
      }
     ],
     "prompt_number": 4
    },
    {
     "cell_type": "markdown",
     "metadata": {},
     "source": [
      "The result is a DataFrame, which can be saved in formats convenient for sharing, like Excel"
     ]
    },
    {
     "cell_type": "code",
     "collapsed": false,
     "input": [
      "f.to_excel('features.xlsx')"
     ],
     "language": "python",
     "metadata": {},
     "outputs": [],
     "prompt_number": 13
    },
    {
     "cell_type": "markdown",
     "metadata": {},
     "source": [
      "or comma-separated values"
     ]
    },
    {
     "cell_type": "code",
     "collapsed": false,
     "input": [
      "f.to_csv('features.csv')"
     ],
     "language": "python",
     "metadata": {},
     "outputs": [],
     "prompt_number": 14
    },
    {
     "cell_type": "markdown",
     "metadata": {},
     "source": [
      "These formats are slow to read and write. If you not are not sending the file to a non-programmer, it is better to save it as a binary file."
     ]
    },
    {
     "cell_type": "code",
     "collapsed": false,
     "input": [
      "f.save('features.df') # df for DataFrame -- could be any name you want"
     ],
     "language": "python",
     "metadata": {},
     "outputs": [],
     "prompt_number": 37
    },
    {
     "cell_type": "markdown",
     "metadata": {},
     "source": [
      "## Saving large jobs while they run\n",
      "\n",
      "For large jobs, it is better to save the features one frame at a time as the job proceeds. If the job is interrupted, partial progress will be saved. And the job requires only enough memory to process one frame at a time -- it need not hold all the frames' data.\n",
      "\n",
      "``batch`` can do this in two different ways: using an HDF5 file (a fast binary format) or a SQL database.\n",
      "\n",
      "### HDF5\n",
      "\n",
      "For HDF5, we open an HDF5 file using pandas, and pass it to batch."
     ]
    },
    {
     "cell_type": "code",
     "collapsed": false,
     "input": [
      "store = pd.HDFStore('data.h5')\n",
      "f = tp.batch(v[:3], 11, 3000, store=store, table='bulk_water/features')\n",
      "# table can take any unique name -- even slashes and spaces are OK"
     ],
     "language": "python",
     "metadata": {},
     "outputs": [
      {
       "output_type": "stream",
       "stream": "stderr",
       "text": [
        "tp.core.feature.locate:  693 local maxima, 259 of qualifying mass\n"
       ]
      },
      {
       "output_type": "stream",
       "stream": "stderr",
       "text": [
        "tp.core.feature.batch:  Frame 0: 259 features\n"
       ]
      },
      {
       "output_type": "stream",
       "stream": "stderr",
       "text": [
        "tp.core.feature.locate:  695 local maxima, 203 of qualifying mass\n"
       ]
      },
      {
       "output_type": "stream",
       "stream": "stderr",
       "text": [
        "tp.core.feature.batch:  Frame 1: 203 features\n"
       ]
      },
      {
       "output_type": "stream",
       "stream": "stderr",
       "text": [
        "tp.core.feature.locate:  702 local maxima, 184 of qualifying mass\n"
       ]
      },
      {
       "output_type": "stream",
       "stream": "stderr",
       "text": [
        "tp.core.feature.batch:  Frame 2: 184 features\n"
       ]
      },
      {
       "output_type": "stream",
       "stream": "stderr",
       "text": [
        "tp.core.feature.locate:  706 local maxima, 220 of qualifying mass\n"
       ]
      },
      {
       "output_type": "stream",
       "stream": "stderr",
       "text": [
        "tp.core.feature.batch:  Frame 3: 220 features\n"
       ]
      }
     ],
     "prompt_number": 20
    },
    {
     "cell_type": "markdown",
     "metadata": {},
     "source": [
      "``batch`` saves the data one frame at a time, discarding each frame's data before it begins the next one. In this way, memory is conserved and long videos can be processed. At the end, ``batch`` loads the data out of the HDF5 file and returns it in the variable ``f``.\n",
      "\n",
      "In some cases, if you wish to run jobs simultaneous in several Python sessions, you might want to leave the data in ``store`` and retrieve it later, in part or in full. Use ``do_not_return=True``."
     ]
    },
    {
     "cell_type": "code",
     "collapsed": false,
     "input": [
      "tp.batch(v[:3], 11, 3000, store=store, table='bulk_water/features', do_not_return=True)\n",
      "# This returns nothing."
     ],
     "language": "python",
     "metadata": {},
     "outputs": [
      {
       "output_type": "stream",
       "stream": "stderr",
       "text": [
        "tp.core.feature.locate:  693 local maxima, 259 of qualifying mass\n"
       ]
      },
      {
       "output_type": "stream",
       "stream": "stderr",
       "text": [
        "tp.core.feature.batch:  Frame 0: 259 features\n"
       ]
      },
      {
       "output_type": "stream",
       "stream": "stderr",
       "text": [
        "tp.core.feature.locate:  695 local maxima, 203 of qualifying mass\n"
       ]
      },
      {
       "output_type": "stream",
       "stream": "stderr",
       "text": [
        "tp.core.feature.batch:  Frame 1: 203 features\n"
       ]
      },
      {
       "output_type": "stream",
       "stream": "stderr",
       "text": [
        "tp.core.feature.locate:  702 local maxima, 184 of qualifying mass\n"
       ]
      },
      {
       "output_type": "stream",
       "stream": "stderr",
       "text": [
        "tp.core.feature.batch:  Frame 2: 184 features\n"
       ]
      },
      {
       "output_type": "stream",
       "stream": "stderr",
       "text": [
        "tp.core.feature.locate:  706 local maxima, 220 of qualifying mass\n"
       ]
      },
      {
       "output_type": "stream",
       "stream": "stderr",
       "text": [
        "tp.core.feature.batch:  Frame 3: 220 features\n"
       ]
      }
     ],
     "prompt_number": 22
    },
    {
     "cell_type": "markdown",
     "metadata": {},
     "source": [
      "We can load it from the store later."
     ]
    },
    {
     "cell_type": "code",
     "collapsed": false,
     "input": [
      "f = store['bulk_water/features']\n",
      "f.head()"
     ],
     "language": "python",
     "metadata": {},
     "outputs": [
      {
       "html": [
        "<div style=\"max-height:1000px;max-width:1500px;overflow:auto;\">\n",
        "<table border=\"1\" class=\"dataframe\">\n",
        "  <thead>\n",
        "    <tr style=\"text-align: right;\">\n",
        "      <th></th>\n",
        "      <th>x</th>\n",
        "      <th>y</th>\n",
        "      <th>mass</th>\n",
        "      <th>size</th>\n",
        "      <th>ecc</th>\n",
        "      <th>signal</th>\n",
        "      <th>ep</th>\n",
        "      <th>frame</th>\n",
        "    </tr>\n",
        "  </thead>\n",
        "  <tbody>\n",
        "    <tr>\n",
        "      <th>2 </th>\n",
        "      <td>  36.048647</td>\n",
        "      <td>  8.120968</td>\n",
        "      <td> 3844</td>\n",
        "      <td> 2.771191</td>\n",
        "      <td> 0.146392</td>\n",
        "      <td> 22.279131</td>\n",
        "      <td> 0.370538</td>\n",
        "      <td> 0</td>\n",
        "    </tr>\n",
        "    <tr>\n",
        "      <th>3 </th>\n",
        "      <td>  67.232830</td>\n",
        "      <td>  7.869478</td>\n",
        "      <td> 3509</td>\n",
        "      <td> 2.570799</td>\n",
        "      <td> 0.053752</td>\n",
        "      <td> 23.279131</td>\n",
        "      <td> 0.412061</td>\n",
        "      <td> 0</td>\n",
        "    </tr>\n",
        "    <tr>\n",
        "      <th>5 </th>\n",
        "      <td> 430.957784</td>\n",
        "      <td>  7.319437</td>\n",
        "      <td> 5685</td>\n",
        "      <td> 2.763565</td>\n",
        "      <td> 0.288109</td>\n",
        "      <td> 26.279131</td>\n",
        "      <td> 0.315874</td>\n",
        "      <td> 0</td>\n",
        "    </tr>\n",
        "    <tr>\n",
        "      <th>6 </th>\n",
        "      <td> 629.180087</td>\n",
        "      <td>  8.195757</td>\n",
        "      <td> 4148</td>\n",
        "      <td> 3.248655</td>\n",
        "      <td> 0.216354</td>\n",
        "      <td> 14.279131</td>\n",
        "      <td> 0.420683</td>\n",
        "      <td> 0</td>\n",
        "    </tr>\n",
        "    <tr>\n",
        "      <th>12</th>\n",
        "      <td> 552.773313</td>\n",
        "      <td> 11.108589</td>\n",
        "      <td> 3260</td>\n",
        "      <td> 2.211168</td>\n",
        "      <td> 0.118502</td>\n",
        "      <td> 29.279131</td>\n",
        "      <td> 0.442856</td>\n",
        "      <td> 0</td>\n",
        "    </tr>\n",
        "  </tbody>\n",
        "</table>\n",
        "</div>"
       ],
       "metadata": {},
       "output_type": "pyout",
       "prompt_number": 25,
       "text": [
        "             x          y  mass      size       ecc     signal        ep  frame\n",
        "2    36.048647   8.120968  3844  2.771191  0.146392  22.279131  0.370538      0\n",
        "3    67.232830   7.869478  3509  2.570799  0.053752  23.279131  0.412061      0\n",
        "5   430.957784   7.319437  5685  2.763565  0.288109  26.279131  0.315874      0\n",
        "6   629.180087   8.195757  4148  3.248655  0.216354  14.279131  0.420683      0\n",
        "12  552.773313  11.108589  3260  2.211168  0.118502  29.279131  0.442856      0"
       ]
      }
     ],
     "prompt_number": 25
    },
    {
     "cell_type": "markdown",
     "metadata": {},
     "source": [
      "If it is too large, we can fetch it in part:"
     ]
    },
    {
     "cell_type": "code",
     "collapsed": false,
     "input": [
      "f = store.select('features', pd.Term('frame < 3'))\n",
      "f.head()"
     ],
     "language": "python",
     "metadata": {},
     "outputs": [
      {
       "html": [
        "<div style=\"max-height:1000px;max-width:1500px;overflow:auto;\">\n",
        "<table border=\"1\" class=\"dataframe\">\n",
        "  <thead>\n",
        "    <tr style=\"text-align: right;\">\n",
        "      <th></th>\n",
        "      <th>x</th>\n",
        "      <th>y</th>\n",
        "      <th>mass</th>\n",
        "      <th>size</th>\n",
        "      <th>ecc</th>\n",
        "      <th>signal</th>\n",
        "      <th>ep</th>\n",
        "      <th>frame</th>\n",
        "    </tr>\n",
        "  </thead>\n",
        "  <tbody>\n",
        "    <tr>\n",
        "      <th>2 </th>\n",
        "      <td>  36.048647</td>\n",
        "      <td>  8.120968</td>\n",
        "      <td> 3844</td>\n",
        "      <td> 2.771191</td>\n",
        "      <td> 0.146392</td>\n",
        "      <td> 22.279131</td>\n",
        "      <td> 0.370538</td>\n",
        "      <td> 0</td>\n",
        "    </tr>\n",
        "    <tr>\n",
        "      <th>3 </th>\n",
        "      <td>  67.232830</td>\n",
        "      <td>  7.869478</td>\n",
        "      <td> 3509</td>\n",
        "      <td> 2.570799</td>\n",
        "      <td> 0.053752</td>\n",
        "      <td> 23.279131</td>\n",
        "      <td> 0.412061</td>\n",
        "      <td> 0</td>\n",
        "    </tr>\n",
        "    <tr>\n",
        "      <th>5 </th>\n",
        "      <td> 430.957784</td>\n",
        "      <td>  7.319437</td>\n",
        "      <td> 5685</td>\n",
        "      <td> 2.763565</td>\n",
        "      <td> 0.288109</td>\n",
        "      <td> 26.279131</td>\n",
        "      <td> 0.315874</td>\n",
        "      <td> 0</td>\n",
        "    </tr>\n",
        "    <tr>\n",
        "      <th>6 </th>\n",
        "      <td> 629.180087</td>\n",
        "      <td>  8.195757</td>\n",
        "      <td> 4148</td>\n",
        "      <td> 3.248655</td>\n",
        "      <td> 0.216354</td>\n",
        "      <td> 14.279131</td>\n",
        "      <td> 0.420683</td>\n",
        "      <td> 0</td>\n",
        "    </tr>\n",
        "    <tr>\n",
        "      <th>12</th>\n",
        "      <td> 552.773313</td>\n",
        "      <td> 11.108589</td>\n",
        "      <td> 3260</td>\n",
        "      <td> 2.211168</td>\n",
        "      <td> 0.118502</td>\n",
        "      <td> 29.279131</td>\n",
        "      <td> 0.442856</td>\n",
        "      <td> 0</td>\n",
        "    </tr>\n",
        "  </tbody>\n",
        "</table>\n",
        "</div>"
       ],
       "metadata": {},
       "output_type": "pyout",
       "prompt_number": 43,
       "text": [
        "             x          y  mass      size       ecc     signal        ep  frame\n",
        "2    36.048647   8.120968  3844  2.771191  0.146392  22.279131  0.370538      0\n",
        "3    67.232830   7.869478  3509  2.570799  0.053752  23.279131  0.412061      0\n",
        "5   430.957784   7.319437  5685  2.763565  0.288109  26.279131  0.315874      0\n",
        "6   629.180087   8.195757  4148  3.248655  0.216354  14.279131  0.420683      0\n",
        "12  552.773313  11.108589  3260  2.211168  0.118502  29.279131  0.442856      0"
       ]
      }
     ],
     "prompt_number": 43
    },
    {
     "cell_type": "markdown",
     "metadata": {},
     "source": [
      "### SQL\n",
      "\n",
      "As an alternative to HDF5, we can use a SQL database. The simplest choice is sqlite, which uses a single file to store a database."
     ]
    },
    {
     "cell_type": "code",
     "collapsed": false,
     "input": [
      "import sqlite3\n",
      "conn = sqlite3.connect('data.sql')\n",
      "f = tp.batch(v[:3], 11, 3000, conn=conn, sql_flavor='sqlite', table='bulk_water/features')"
     ],
     "language": "python",
     "metadata": {},
     "outputs": [
      {
       "output_type": "stream",
       "stream": "stderr",
       "text": [
        "tp.core.feature.locate:  693 local maxima, 259 of qualifying mass\n"
       ]
      },
      {
       "output_type": "stream",
       "stream": "stderr",
       "text": [
        "tp.core.feature.batch:  Frame 0: 259 features\n"
       ]
      },
      {
       "output_type": "stream",
       "stream": "stderr",
       "text": [
        "tp.core.feature.locate:  695 local maxima, 203 of qualifying mass\n"
       ]
      },
      {
       "output_type": "stream",
       "stream": "stderr",
       "text": [
        "tp.core.feature.batch:  Frame 1: 203 features\n"
       ]
      },
      {
       "output_type": "stream",
       "stream": "stderr",
       "text": [
        "tp.core.feature.locate:  702 local maxima, 184 of qualifying mass\n"
       ]
      },
      {
       "output_type": "stream",
       "stream": "stderr",
       "text": [
        "tp.core.feature.batch:  Frame 2: 184 features\n"
       ]
      },
      {
       "output_type": "stream",
       "stream": "stderr",
       "text": [
        "tp.core.feature.locate:  706 local maxima, 220 of qualifying mass\n"
       ]
      },
      {
       "output_type": "stream",
       "stream": "stderr",
       "text": [
        "tp.core.feature.batch:  Frame 3: 220 features\n"
       ]
      }
     ],
     "prompt_number": 33
    },
    {
     "cell_type": "markdown",
     "metadata": {},
     "source": [
      "A MySQL database is also supported. The ``tp.sql`` module provides a convenience function for making a MySQL database connection."
     ]
    },
    {
     "cell_type": "code",
     "collapsed": false,
     "input": [
      "f = tp.batch(v[:3], 11, 3000, conn=tp.sql.connect(), sql_flavor='mysql', table='bulk_water/features')"
     ],
     "language": "python",
     "metadata": {},
     "outputs": [
      {
       "output_type": "stream",
       "stream": "stderr",
       "text": [
        "tp.core.feature.locate:  693 local maxima, 259 of qualifying mass\n"
       ]
      },
      {
       "output_type": "stream",
       "stream": "stderr",
       "text": [
        "tp.core.feature.batch:  Frame 0: 259 features\n"
       ]
      },
      {
       "output_type": "stream",
       "stream": "stderr",
       "text": [
        "tp.core.feature.locate:  695 local maxima, 203 of qualifying mass\n"
       ]
      },
      {
       "output_type": "stream",
       "stream": "stderr",
       "text": [
        "tp.core.feature.batch:  Frame 1: 203 features\n"
       ]
      },
      {
       "output_type": "stream",
       "stream": "stderr",
       "text": [
        "tp.core.feature.locate:  702 local maxima, 184 of qualifying mass\n"
       ]
      },
      {
       "output_type": "stream",
       "stream": "stderr",
       "text": [
        "tp.core.feature.batch:  Frame 2: 184 features\n"
       ]
      },
      {
       "output_type": "stream",
       "stream": "stderr",
       "text": [
        "tp.core.feature.locate:  706 local maxima, 220 of qualifying mass\n"
       ]
      },
      {
       "output_type": "stream",
       "stream": "stderr",
       "text": [
        "tp.core.feature.batch:  Frame 3: 220 features\n"
       ]
      }
     ],
     "prompt_number": 32
    },
    {
     "cell_type": "markdown",
     "metadata": {},
     "source": [
      "As with HDF5, you can conserve memory using ``do_not_return=True``.\n",
      "\n",
      "### Accesssing partial data sets without interrupting analysis\n",
      "\n",
      "Finally, sometimes it is convenient examine the early results while the full video is still being processed. This is not possible with an HDF5 file, which does not support concurrent reading and writing. But SQL makes it possible."
     ]
    },
    {
     "cell_type": "code",
     "collapsed": false,
     "input": [
      "partial = pd.io.sql.read_frame('select * from bulk_water_features', conn)\n",
      "partial.head()"
     ],
     "language": "python",
     "metadata": {},
     "outputs": [
      {
       "html": [
        "<div style=\"max-height:1000px;max-width:1500px;overflow:auto;\">\n",
        "<table border=\"1\" class=\"dataframe\">\n",
        "  <thead>\n",
        "    <tr style=\"text-align: right;\">\n",
        "      <th></th>\n",
        "      <th>x</th>\n",
        "      <th>y</th>\n",
        "      <th>mass</th>\n",
        "      <th>size</th>\n",
        "      <th>ecc</th>\n",
        "      <th>signal</th>\n",
        "      <th>ep</th>\n",
        "      <th>frame</th>\n",
        "    </tr>\n",
        "  </thead>\n",
        "  <tbody>\n",
        "    <tr>\n",
        "      <th>0</th>\n",
        "      <td>  36.048647</td>\n",
        "      <td>  8.120968</td>\n",
        "      <td> 3844</td>\n",
        "      <td> 2.771191</td>\n",
        "      <td> 0.146392</td>\n",
        "      <td> 22.279131</td>\n",
        "      <td> 0.370538</td>\n",
        "      <td> 0</td>\n",
        "    </tr>\n",
        "    <tr>\n",
        "      <th>1</th>\n",
        "      <td>  67.232830</td>\n",
        "      <td>  7.869478</td>\n",
        "      <td> 3509</td>\n",
        "      <td> 2.570799</td>\n",
        "      <td> 0.053752</td>\n",
        "      <td> 23.279131</td>\n",
        "      <td> 0.412061</td>\n",
        "      <td> 0</td>\n",
        "    </tr>\n",
        "    <tr>\n",
        "      <th>2</th>\n",
        "      <td> 430.957784</td>\n",
        "      <td>  7.319437</td>\n",
        "      <td> 5685</td>\n",
        "      <td> 2.763565</td>\n",
        "      <td> 0.288109</td>\n",
        "      <td> 26.279131</td>\n",
        "      <td> 0.315874</td>\n",
        "      <td> 0</td>\n",
        "    </tr>\n",
        "    <tr>\n",
        "      <th>3</th>\n",
        "      <td> 629.180087</td>\n",
        "      <td>  8.195757</td>\n",
        "      <td> 4148</td>\n",
        "      <td> 3.248655</td>\n",
        "      <td> 0.216354</td>\n",
        "      <td> 14.279131</td>\n",
        "      <td> 0.420683</td>\n",
        "      <td> 0</td>\n",
        "    </tr>\n",
        "    <tr>\n",
        "      <th>4</th>\n",
        "      <td> 552.773313</td>\n",
        "      <td> 11.108589</td>\n",
        "      <td> 3260</td>\n",
        "      <td> 2.211168</td>\n",
        "      <td> 0.118502</td>\n",
        "      <td> 29.279131</td>\n",
        "      <td> 0.442856</td>\n",
        "      <td> 0</td>\n",
        "    </tr>\n",
        "  </tbody>\n",
        "</table>\n",
        "</div>"
       ],
       "metadata": {},
       "output_type": "pyout",
       "prompt_number": 36,
       "text": [
        "            x          y  mass      size       ecc     signal        ep  frame\n",
        "0   36.048647   8.120968  3844  2.771191  0.146392  22.279131  0.370538      0\n",
        "1   67.232830   7.869478  3509  2.570799  0.053752  23.279131  0.412061      0\n",
        "2  430.957784   7.319437  5685  2.763565  0.288109  26.279131  0.315874      0\n",
        "3  629.180087   8.195757  4148  3.248655  0.216354  14.279131  0.420683      0\n",
        "4  552.773313  11.108589  3260  2.211168  0.118502  29.279131  0.442856      0"
       ]
      }
     ],
     "prompt_number": 36
    },
    {
     "cell_type": "markdown",
     "metadata": {},
     "source": [
      "Here we have the full result because my short example job is done and already finished."
     ]
    }
   ],
   "metadata": {}
  }
 ]
}