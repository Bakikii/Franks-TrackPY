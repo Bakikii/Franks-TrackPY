# must be run in ipython

import numpy as np
import trackpy as tp


def b(command):
    get_ipython().magic(command)


dummy_noise_image = np.random.randint(0, 100, (100, 100))
real_image = tp.ImageSequence('../trackpy/tests/video/image_sequence')[0]

print 'Locate with Default Settings (Accurate)'
b(u'timeit tp.locate(real_image, 5)')

print 'Locate Fast Settings (Sloppy)'
b(u'timeit tp.locate(real_image, 5, filter_before=False, filter_after=False, max_iterations=0, characterize=False)')
